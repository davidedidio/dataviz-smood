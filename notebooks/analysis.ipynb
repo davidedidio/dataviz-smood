{
 "cells": [
  {
   "cell_type": "code",
   "execution_count": 3,
   "metadata": {},
   "outputs": [],
   "source": [
    "import pandas as pd\n",
    "import matplotlib.pyplot as plt\n",
    "import numpy as np"
   ]
  },
  {
   "cell_type": "code",
   "execution_count": 4,
   "metadata": {},
   "outputs": [],
   "source": [
    "DATA_PATH = \"../data/dataviz.csv\""
   ]
  },
  {
   "cell_type": "code",
   "execution_count": 5,
   "metadata": {},
   "outputs": [
    {
     "data": {
      "text/html": [
       "<div>\n",
       "<style>\n",
       "    .dataframe thead tr:only-child th {\n",
       "        text-align: right;\n",
       "    }\n",
       "\n",
       "    .dataframe thead th {\n",
       "        text-align: left;\n",
       "    }\n",
       "\n",
       "    .dataframe tbody tr th {\n",
       "        vertical-align: top;\n",
       "    }\n",
       "</style>\n",
       "<table border=\"1\" class=\"dataframe\">\n",
       "  <thead>\n",
       "    <tr style=\"text-align: right;\">\n",
       "      <th></th>\n",
       "      <th>plat</th>\n",
       "      <th>plng</th>\n",
       "      <th>dlat</th>\n",
       "      <th>dlng</th>\n",
       "      <th>t</th>\n",
       "      <th>duration</th>\n",
       "      <th>distance</th>\n",
       "      <th>road</th>\n",
       "    </tr>\n",
       "  </thead>\n",
       "  <tbody>\n",
       "    <tr>\n",
       "      <th>0</th>\n",
       "      <td>46.517116</td>\n",
       "      <td>6.630342</td>\n",
       "      <td>46.508528</td>\n",
       "      <td>6.627598</td>\n",
       "      <td>11:15:00</td>\n",
       "      <td>132.0</td>\n",
       "      <td>1336.0</td>\n",
       "      <td>[311463563, 2940544168, 311463564, 561463459, ...</td>\n",
       "    </tr>\n",
       "    <tr>\n",
       "      <th>1</th>\n",
       "      <td>46.517116</td>\n",
       "      <td>6.630342</td>\n",
       "      <td>46.521429</td>\n",
       "      <td>6.656347</td>\n",
       "      <td>20:00:00</td>\n",
       "      <td>426.0</td>\n",
       "      <td>3702.0</td>\n",
       "      <td>[311463563, 2940544168, 311463564, 561463459, ...</td>\n",
       "    </tr>\n",
       "    <tr>\n",
       "      <th>2</th>\n",
       "      <td>46.517116</td>\n",
       "      <td>6.630342</td>\n",
       "      <td>46.558792</td>\n",
       "      <td>6.680104</td>\n",
       "      <td>18:15:00</td>\n",
       "      <td>707.0</td>\n",
       "      <td>8354.0</td>\n",
       "      <td>[311463563, 2940544168, 311463564, 561463459, ...</td>\n",
       "    </tr>\n",
       "    <tr>\n",
       "      <th>3</th>\n",
       "      <td>46.520649</td>\n",
       "      <td>6.635173</td>\n",
       "      <td>46.519590</td>\n",
       "      <td>6.634718</td>\n",
       "      <td>18:45:00</td>\n",
       "      <td>163.0</td>\n",
       "      <td>1521.0</td>\n",
       "      <td>[2223091605, 3786724165, 3786724164, 302530573...</td>\n",
       "    </tr>\n",
       "    <tr>\n",
       "      <th>4</th>\n",
       "      <td>46.510731</td>\n",
       "      <td>6.630553</td>\n",
       "      <td>46.515950</td>\n",
       "      <td>6.657525</td>\n",
       "      <td>19:00:00</td>\n",
       "      <td>437.0</td>\n",
       "      <td>3818.0</td>\n",
       "      <td>[3516999773, 3817926827, 567951313, 567951312,...</td>\n",
       "    </tr>\n",
       "  </tbody>\n",
       "</table>\n",
       "</div>"
      ],
      "text/plain": [
       "        plat      plng       dlat      dlng         t  duration  distance  \\\n",
       "0  46.517116  6.630342  46.508528  6.627598  11:15:00     132.0    1336.0   \n",
       "1  46.517116  6.630342  46.521429  6.656347  20:00:00     426.0    3702.0   \n",
       "2  46.517116  6.630342  46.558792  6.680104  18:15:00     707.0    8354.0   \n",
       "3  46.520649  6.635173  46.519590  6.634718  18:45:00     163.0    1521.0   \n",
       "4  46.510731  6.630553  46.515950  6.657525  19:00:00     437.0    3818.0   \n",
       "\n",
       "                                                road  \n",
       "0  [311463563, 2940544168, 311463564, 561463459, ...  \n",
       "1  [311463563, 2940544168, 311463564, 561463459, ...  \n",
       "2  [311463563, 2940544168, 311463564, 561463459, ...  \n",
       "3  [2223091605, 3786724165, 3786724164, 302530573...  \n",
       "4  [3516999773, 3817926827, 567951313, 567951312,...  "
      ]
     },
     "execution_count": 5,
     "metadata": {},
     "output_type": "execute_result"
    }
   ],
   "source": [
    "data = pd.read_csv(DATA_PATH)\n",
    "data.head()"
   ]
  },
  {
   "cell_type": "code",
   "execution_count": 8,
   "metadata": {},
   "outputs": [
    {
     "data": {
      "text/html": [
       "<div>\n",
       "<style>\n",
       "    .dataframe thead tr:only-child th {\n",
       "        text-align: right;\n",
       "    }\n",
       "\n",
       "    .dataframe thead th {\n",
       "        text-align: left;\n",
       "    }\n",
       "\n",
       "    .dataframe tbody tr th {\n",
       "        vertical-align: top;\n",
       "    }\n",
       "</style>\n",
       "<table border=\"1\" class=\"dataframe\">\n",
       "  <thead>\n",
       "    <tr style=\"text-align: right;\">\n",
       "      <th></th>\n",
       "      <th>plat</th>\n",
       "      <th>plng</th>\n",
       "      <th>dlat</th>\n",
       "      <th>dlng</th>\n",
       "      <th>t</th>\n",
       "      <th>duration</th>\n",
       "      <th>distance</th>\n",
       "      <th>road</th>\n",
       "    </tr>\n",
       "  </thead>\n",
       "  <tbody>\n",
       "    <tr>\n",
       "      <th>680</th>\n",
       "      <td>46.520649</td>\n",
       "      <td>6.635173</td>\n",
       "      <td>46.514435</td>\n",
       "      <td>6.692205</td>\n",
       "      <td>18:15:00</td>\n",
       "      <td>1192.0</td>\n",
       "      <td>22847.0</td>\n",
       "      <td>[2223091605, 3786724165, 3786724164, 302530573...</td>\n",
       "    </tr>\n",
       "    <tr>\n",
       "      <th>1170</th>\n",
       "      <td>46.517116</td>\n",
       "      <td>6.630342</td>\n",
       "      <td>46.514435</td>\n",
       "      <td>6.692205</td>\n",
       "      <td>19:00:00</td>\n",
       "      <td>1243.0</td>\n",
       "      <td>20996.0</td>\n",
       "      <td>[311463563, 2940544168, 311463564, 561463459, ...</td>\n",
       "    </tr>\n",
       "    <tr>\n",
       "      <th>1568</th>\n",
       "      <td>46.523953</td>\n",
       "      <td>6.625008</td>\n",
       "      <td>46.583235</td>\n",
       "      <td>6.741719</td>\n",
       "      <td>18:30:00</td>\n",
       "      <td>1015.0</td>\n",
       "      <td>15134.0</td>\n",
       "      <td>[5337071477, 5340503954, 562828992, 583408361,...</td>\n",
       "    </tr>\n",
       "    <tr>\n",
       "      <th>156</th>\n",
       "      <td>46.522014</td>\n",
       "      <td>6.627691</td>\n",
       "      <td>46.588145</td>\n",
       "      <td>6.566915</td>\n",
       "      <td>18:00:00</td>\n",
       "      <td>910.0</td>\n",
       "      <td>15056.0</td>\n",
       "      <td>[5319971360, 5319971362, 505190, 1577380107, 5...</td>\n",
       "    </tr>\n",
       "    <tr>\n",
       "      <th>205</th>\n",
       "      <td>46.510731</td>\n",
       "      <td>6.630553</td>\n",
       "      <td>46.583235</td>\n",
       "      <td>6.741719</td>\n",
       "      <td>18:45:00</td>\n",
       "      <td>1152.0</td>\n",
       "      <td>14712.0</td>\n",
       "      <td>[3516999773, 3817926827, 567951313, 567951312,...</td>\n",
       "    </tr>\n",
       "  </tbody>\n",
       "</table>\n",
       "</div>"
      ],
      "text/plain": [
       "           plat      plng       dlat      dlng         t  duration  distance  \\\n",
       "680   46.520649  6.635173  46.514435  6.692205  18:15:00    1192.0   22847.0   \n",
       "1170  46.517116  6.630342  46.514435  6.692205  19:00:00    1243.0   20996.0   \n",
       "1568  46.523953  6.625008  46.583235  6.741719  18:30:00    1015.0   15134.0   \n",
       "156   46.522014  6.627691  46.588145  6.566915  18:00:00     910.0   15056.0   \n",
       "205   46.510731  6.630553  46.583235  6.741719  18:45:00    1152.0   14712.0   \n",
       "\n",
       "                                                   road  \n",
       "680   [2223091605, 3786724165, 3786724164, 302530573...  \n",
       "1170  [311463563, 2940544168, 311463564, 561463459, ...  \n",
       "1568  [5337071477, 5340503954, 562828992, 583408361,...  \n",
       "156   [5319971360, 5319971362, 505190, 1577380107, 5...  \n",
       "205   [3516999773, 3817926827, 567951313, 567951312,...  "
      ]
     },
     "execution_count": 8,
     "metadata": {},
     "output_type": "execute_result"
    }
   ],
   "source": [
    "data.sort_values(['distance'], ascending=False).head()"
   ]
  },
  {
   "cell_type": "code",
   "execution_count": 9,
   "metadata": {},
   "outputs": [
    {
     "data": {
      "text/html": [
       "<div>\n",
       "<style>\n",
       "    .dataframe thead tr:only-child th {\n",
       "        text-align: right;\n",
       "    }\n",
       "\n",
       "    .dataframe thead th {\n",
       "        text-align: left;\n",
       "    }\n",
       "\n",
       "    .dataframe tbody tr th {\n",
       "        vertical-align: top;\n",
       "    }\n",
       "</style>\n",
       "<table border=\"1\" class=\"dataframe\">\n",
       "  <thead>\n",
       "    <tr style=\"text-align: right;\">\n",
       "      <th></th>\n",
       "      <th>plat</th>\n",
       "      <th>plng</th>\n",
       "      <th>dlat</th>\n",
       "      <th>dlng</th>\n",
       "      <th>t</th>\n",
       "      <th>duration</th>\n",
       "      <th>distance</th>\n",
       "      <th>road</th>\n",
       "    </tr>\n",
       "  </thead>\n",
       "  <tbody>\n",
       "    <tr>\n",
       "      <th>1170</th>\n",
       "      <td>46.517116</td>\n",
       "      <td>6.630342</td>\n",
       "      <td>46.514435</td>\n",
       "      <td>6.692205</td>\n",
       "      <td>19:00:00</td>\n",
       "      <td>1243.0</td>\n",
       "      <td>20996.0</td>\n",
       "      <td>[311463563, 2940544168, 311463564, 561463459, ...</td>\n",
       "    </tr>\n",
       "    <tr>\n",
       "      <th>680</th>\n",
       "      <td>46.520649</td>\n",
       "      <td>6.635173</td>\n",
       "      <td>46.514435</td>\n",
       "      <td>6.692205</td>\n",
       "      <td>18:15:00</td>\n",
       "      <td>1192.0</td>\n",
       "      <td>22847.0</td>\n",
       "      <td>[2223091605, 3786724165, 3786724164, 302530573...</td>\n",
       "    </tr>\n",
       "    <tr>\n",
       "      <th>205</th>\n",
       "      <td>46.510731</td>\n",
       "      <td>6.630553</td>\n",
       "      <td>46.583235</td>\n",
       "      <td>6.741719</td>\n",
       "      <td>18:45:00</td>\n",
       "      <td>1152.0</td>\n",
       "      <td>14712.0</td>\n",
       "      <td>[3516999773, 3817926827, 567951313, 567951312,...</td>\n",
       "    </tr>\n",
       "    <tr>\n",
       "      <th>1731</th>\n",
       "      <td>46.520649</td>\n",
       "      <td>6.635173</td>\n",
       "      <td>46.618108</td>\n",
       "      <td>6.661264</td>\n",
       "      <td>18:30:00</td>\n",
       "      <td>1070.0</td>\n",
       "      <td>12409.0</td>\n",
       "      <td>[2223091605, 3786724165, 3786724164, 302530573...</td>\n",
       "    </tr>\n",
       "    <tr>\n",
       "      <th>1568</th>\n",
       "      <td>46.523953</td>\n",
       "      <td>6.625008</td>\n",
       "      <td>46.583235</td>\n",
       "      <td>6.741719</td>\n",
       "      <td>18:30:00</td>\n",
       "      <td>1015.0</td>\n",
       "      <td>15134.0</td>\n",
       "      <td>[5337071477, 5340503954, 562828992, 583408361,...</td>\n",
       "    </tr>\n",
       "  </tbody>\n",
       "</table>\n",
       "</div>"
      ],
      "text/plain": [
       "           plat      plng       dlat      dlng         t  duration  distance  \\\n",
       "1170  46.517116  6.630342  46.514435  6.692205  19:00:00    1243.0   20996.0   \n",
       "680   46.520649  6.635173  46.514435  6.692205  18:15:00    1192.0   22847.0   \n",
       "205   46.510731  6.630553  46.583235  6.741719  18:45:00    1152.0   14712.0   \n",
       "1731  46.520649  6.635173  46.618108  6.661264  18:30:00    1070.0   12409.0   \n",
       "1568  46.523953  6.625008  46.583235  6.741719  18:30:00    1015.0   15134.0   \n",
       "\n",
       "                                                   road  \n",
       "1170  [311463563, 2940544168, 311463564, 561463459, ...  \n",
       "680   [2223091605, 3786724165, 3786724164, 302530573...  \n",
       "205   [3516999773, 3817926827, 567951313, 567951312,...  \n",
       "1731  [2223091605, 3786724165, 3786724164, 302530573...  \n",
       "1568  [5337071477, 5340503954, 562828992, 583408361,...  "
      ]
     },
     "execution_count": 9,
     "metadata": {},
     "output_type": "execute_result"
    }
   ],
   "source": [
    "data.sort_values(['duration'], ascending=False).head()"
   ]
  },
  {
   "cell_type": "code",
   "execution_count": 4,
   "metadata": {},
   "outputs": [
    {
     "data": {
      "text/html": [
       "<div>\n",
       "<style>\n",
       "    .dataframe thead tr:only-child th {\n",
       "        text-align: right;\n",
       "    }\n",
       "\n",
       "    .dataframe thead th {\n",
       "        text-align: left;\n",
       "    }\n",
       "\n",
       "    .dataframe tbody tr th {\n",
       "        vertical-align: top;\n",
       "    }\n",
       "</style>\n",
       "<table border=\"1\" class=\"dataframe\">\n",
       "  <thead>\n",
       "    <tr style=\"text-align: right;\">\n",
       "      <th></th>\n",
       "      <th>plat</th>\n",
       "      <th>plng</th>\n",
       "      <th>dlat</th>\n",
       "      <th>dlng</th>\n",
       "      <th>duration</th>\n",
       "      <th>distance</th>\n",
       "    </tr>\n",
       "  </thead>\n",
       "  <tbody>\n",
       "    <tr>\n",
       "      <th>count</th>\n",
       "      <td>2000.000000</td>\n",
       "      <td>2000.000000</td>\n",
       "      <td>2000.000000</td>\n",
       "      <td>2000.000000</td>\n",
       "      <td>2000.000000</td>\n",
       "      <td>2000.000000</td>\n",
       "    </tr>\n",
       "    <tr>\n",
       "      <th>mean</th>\n",
       "      <td>46.520077</td>\n",
       "      <td>6.633191</td>\n",
       "      <td>46.534785</td>\n",
       "      <td>6.644947</td>\n",
       "      <td>415.511500</td>\n",
       "      <td>4470.565000</td>\n",
       "    </tr>\n",
       "    <tr>\n",
       "      <th>std</th>\n",
       "      <td>0.003142</td>\n",
       "      <td>0.005639</td>\n",
       "      <td>0.018449</td>\n",
       "      <td>0.031695</td>\n",
       "      <td>213.306764</td>\n",
       "      <td>2949.045609</td>\n",
       "    </tr>\n",
       "    <tr>\n",
       "      <th>min</th>\n",
       "      <td>46.507833</td>\n",
       "      <td>6.581138</td>\n",
       "      <td>46.487959</td>\n",
       "      <td>6.489375</td>\n",
       "      <td>17.000000</td>\n",
       "      <td>169.000000</td>\n",
       "    </tr>\n",
       "    <tr>\n",
       "      <th>25%</th>\n",
       "      <td>46.518914</td>\n",
       "      <td>6.630342</td>\n",
       "      <td>46.519167</td>\n",
       "      <td>6.625845</td>\n",
       "      <td>238.000000</td>\n",
       "      <td>2014.000000</td>\n",
       "    </tr>\n",
       "    <tr>\n",
       "      <th>50%</th>\n",
       "      <td>46.520649</td>\n",
       "      <td>6.635173</td>\n",
       "      <td>46.529105</td>\n",
       "      <td>6.639434</td>\n",
       "      <td>352.000000</td>\n",
       "      <td>3171.500000</td>\n",
       "    </tr>\n",
       "    <tr>\n",
       "      <th>75%</th>\n",
       "      <td>46.520649</td>\n",
       "      <td>6.635173</td>\n",
       "      <td>46.558792</td>\n",
       "      <td>6.680104</td>\n",
       "      <td>626.000000</td>\n",
       "      <td>7670.000000</td>\n",
       "    </tr>\n",
       "    <tr>\n",
       "      <th>max</th>\n",
       "      <td>46.536840</td>\n",
       "      <td>6.652842</td>\n",
       "      <td>46.618108</td>\n",
       "      <td>6.741719</td>\n",
       "      <td>1243.000000</td>\n",
       "      <td>22847.000000</td>\n",
       "    </tr>\n",
       "  </tbody>\n",
       "</table>\n",
       "</div>"
      ],
      "text/plain": [
       "              plat         plng         dlat         dlng     duration  \\\n",
       "count  2000.000000  2000.000000  2000.000000  2000.000000  2000.000000   \n",
       "mean     46.520077     6.633191    46.534785     6.644947   415.511500   \n",
       "std       0.003142     0.005639     0.018449     0.031695   213.306764   \n",
       "min      46.507833     6.581138    46.487959     6.489375    17.000000   \n",
       "25%      46.518914     6.630342    46.519167     6.625845   238.000000   \n",
       "50%      46.520649     6.635173    46.529105     6.639434   352.000000   \n",
       "75%      46.520649     6.635173    46.558792     6.680104   626.000000   \n",
       "max      46.536840     6.652842    46.618108     6.741719  1243.000000   \n",
       "\n",
       "           distance  \n",
       "count   2000.000000  \n",
       "mean    4470.565000  \n",
       "std     2949.045609  \n",
       "min      169.000000  \n",
       "25%     2014.000000  \n",
       "50%     3171.500000  \n",
       "75%     7670.000000  \n",
       "max    22847.000000  "
      ]
     },
     "execution_count": 4,
     "metadata": {},
     "output_type": "execute_result"
    }
   ],
   "source": [
    "data.describe()"
   ]
  },
  {
   "cell_type": "code",
   "execution_count": 5,
   "metadata": {},
   "outputs": [
    {
     "name": "stdout",
     "output_type": "stream",
     "text": [
      "46.520649\n",
      "6.635173\n"
     ]
    }
   ],
   "source": [
    "counts_lat = np.unique(data.plat, return_counts=True)\n",
    "print(counts_lat[0][np.argmax(counts_lat[1])])\n",
    "\n",
    "counts_lng = np.unique(data.plng, return_counts=True)\n",
    "print(counts_lng[0][np.argmax(counts_lng[1])])"
   ]
  },
  {
   "cell_type": "code",
   "execution_count": 6,
   "metadata": {},
   "outputs": [
    {
     "data": {
      "image/png": "[encoded data removed]",
      "text/plain": [
       "<matplotlib.figure.Figure at 0x112adfef0>"
      ]
     },
     "metadata": {},
     "output_type": "display_data"
    },
    {
     "data": {
      "image/png": "[encoded data removed]",
      "text/plain": [
       "<matplotlib.figure.Figure at 0x112c1ef60>"
      ]
     },
     "metadata": {},
     "output_type": "display_data"
    }
   ],
   "source": [
    "data.plot(\"dlng\", \"dlat\", kind=\"scatter\")\n",
    "data.plot(\"plng\", \"plat\", kind=\"scatter\")\n",
    "plt.show()"
   ]
  },
  {
   "cell_type": "code",
   "execution_count": 7,
   "metadata": {},
   "outputs": [
    {
     "data": {
      "image/png": "[encoded data removed]",
      "text/plain": [
       "<matplotlib.figure.Figure at 0x112cd05c0>"
      ]
     },
     "metadata": {},
     "output_type": "display_data"
    },
    {
     "data": {
      "image/png": "[encoded data removed]",
      "text/plain": [
       "<matplotlib.figure.Figure at 0x112deeeb8>"
      ]
     },
     "metadata": {},
     "output_type": "display_data"
    }
   ],
   "source": [
    "plt.figure(figsize=(14,10))\n",
    "plt.hist2d(data.plng, data.plat, bins= 50)\n",
    "\n",
    "plt.figure(figsize=(14,10))\n",
    "plt.hist2d(data.dlng, data.dlat, bins= 50, normed=True)\n",
    "plt.show()"
   ]
  },
  {
   "cell_type": "code",
   "execution_count": 89,
   "metadata": {
    "scrolled": false
   },
   "outputs": [
    {
     "data": {
      "text/plain": [
       "'[311463563, 2940544168, 311463564, 561463459, 570300702, 561463461, 570300715, 570300717, 4947137547, 270099337, 570300729, 597811352, 364353081, 561509501, 330171531, 5318115068, 364353083, 2789072452, 362743006, 311749894, 2789072450, 280792538, 564295938, 571188926, 271330483, 610330993, 564464338, 282029475, 2968148206, 2968148198, 282029464, 610330987, 280792528, 664577689, 269559417, 610316882, 610316869, 35295154, 5344892960, 5344892965, 5344892963, 567951643, 266381271, 567951646, 5344892966, 5344892961, 567951602, 35295156, 5280238445, 4007578776, 3476472419, 269948305, 567899687, 269590759, 269948269, 35295157, 567899675, 567914297, 564464284, 269948285, 567914227]'"
      ]
     },
     "execution_count": 89,
     "metadata": {},
     "output_type": "execute_result"
    }
   ],
   "source": [
    "data.iloc[0].road"
   ]
  },
  {
   "cell_type": "code",
   "execution_count": 9,
   "metadata": {},
   "outputs": [],
   "source": [
    "data[\"num_nodes\"] = data[\"road\"].apply(lambda x: len(x.split()))"
   ]
  },
  {
   "cell_type": "code",
   "execution_count": 27,
   "metadata": {},
   "outputs": [
    {
     "data": {
      "image/png": "[encoded data removed]",
      "text/plain": [
       "<matplotlib.figure.Figure at 0x115aa2f98>"
      ]
     },
     "metadata": {},
     "output_type": "display_data"
    }
   ],
   "source": [
    "plt.figure(figsize=(10,6))\n",
    "data[\"num_nodes\"].hist(bins=40)\n",
    "plt.xlabel('Number of nodes')\n",
    "plt.ylabel('Number of deliveries')\n",
    "plt.title('Histogram of the number of nodes per itineraries')\n",
    "p=plt.show()"
   ]
  },
  {
   "cell_type": "code",
   "execution_count": 17,
   "metadata": {},
   "outputs": [
    {
     "data": {
      "text/plain": [
       "(array(['10:30:00', '10:45:00', '11:00:00', '11:15:00', '11:30:00',\n",
       "        '11:45:00', '12:00:00', '12:15:00', '12:30:00', '12:45:00',\n",
       "        '13:00:00', '13:15:00', '13:30:00', '13:45:00', '14:00:00',\n",
       "        '14:15:00', '14:30:00', '15:00:00', '15:45:00', '16:15:00',\n",
       "        '16:30:00', '16:45:00', '17:00:00', '17:15:00', '17:30:00',\n",
       "        '17:45:00', '18:00:00', '18:15:00', '18:30:00', '18:45:00',\n",
       "        '19:00:00', '19:15:00', '19:30:00', '19:45:00', '20:00:00',\n",
       "        '20:15:00', '20:30:00', '20:45:00', '21:00:00', '21:15:00',\n",
       "        '21:30:00'], dtype=object),\n",
       " array([  1,   1,   3,  33,  17,  12,  10,  13,  15,   4,  18,  12,   9,\n",
       "          7,   3,   2,   8,   5,   2,   1,   2,   2,   8,   2,  13,  23,\n",
       "        102, 217, 204, 136, 212, 163, 219, 173,  91,  90,  67,  44,  33,\n",
       "         18,   5]))"
      ]
     },
     "execution_count": 17,
     "metadata": {},
     "output_type": "execute_result"
    }
   ],
   "source": [
    "tmp"
   ]
  },
  {
   "cell_type": "code",
   "execution_count": 24,
   "metadata": {},
   "outputs": [
    {
     "data": {
      "image/png": "[encoded data removed]",
      "text/plain": [
       "<matplotlib.figure.Figure at 0x1154d6e48>"
      ]
     },
     "metadata": {},
     "output_type": "display_data"
    }
   ],
   "source": [
    "tmp = np.unique(data.t, return_counts=True)\n",
    "plt.figure(figsize=(10,6))\n",
    "plt.plot(range(len(tmp[0])), tmp[1])\n",
    "plt.xticks(range(len(tmp[0])), tmp[0], rotation='vertical')\n",
    "plt.xlabel('Time')\n",
    "plt.ylabel('Number of deliveries')\n",
    "plt.title('Repartition of the delivery time')\n",
    "p=plt.show()"
   ]
  },
  {
   "cell_type": "code",
   "execution_count": 26,
   "metadata": {},
   "outputs": [
    {
     "data": {
      "image/png": "[encoded data removed]",
      "text/plain": [
       "<matplotlib.figure.Figure at 0x115480ac8>"
      ]
     },
     "metadata": {},
     "output_type": "display_data"
    }
   ],
   "source": [
    "plt.figure(figsize=(10,6))\n",
    "data[\"duration\"].hist(bins=40)\n",
    "plt.title('Histogram of the duration of a delivery')\n",
    "plt.xlabel('Duration [s]')\n",
    "plt.ylabel('Number of deliveries')\n",
    "p=plt.show()"
   ]
  },
  {
   "cell_type": "code",
   "execution_count": 29,
   "metadata": {},
   "outputs": [
    {
     "data": {
      "image/png": "[encoded data removed]",
      "text/plain": [
       "<matplotlib.figure.Figure at 0x115483208>"
      ]
     },
     "metadata": {},
     "output_type": "display_data"
    }
   ],
   "source": [
    "plt.figure(figsize=(10,6))\n",
    "data[\"distance\"].apply(lambda d: d/1000).hist(bins=40)\n",
    "plt.title('Histogram of the distance of a delivery')\n",
    "plt.xlabel('Distance [km]')\n",
    "plt.ylabel('Number of deliveries')\n",
    "p=plt.show()"
   ]
  }
 ],
 "metadata": {
  "kernelspec": {
   "display_name": "Python [conda env:ada]",
   "language": "python",
   "name": "conda-env-ada-py"
  },
  "language_info": {
   "codemirror_mode": {
    "name": "ipython",
    "version": 3
   },
   "file_extension": ".py",
   "mimetype": "text/x-python",
   "name": "python",
   "nbconvert_exporter": "python",
   "pygments_lexer": "ipython3",
   "version": "3.5.4"
  }
 },
 "nbformat": 4,
 "nbformat_minor": 2
}
