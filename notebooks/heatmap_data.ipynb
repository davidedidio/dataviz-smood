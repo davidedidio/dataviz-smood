{
 "cells": [
  {
   "cell_type": "code",
   "execution_count": 1,
   "metadata": {},
   "outputs": [],
   "source": [
    "import numpy as np\n",
    "import pandas as pd\n",
    "import json"
   ]
  },
  {
   "cell_type": "code",
   "execution_count": 2,
   "metadata": {},
   "outputs": [
    {
     "data": {
      "text/html": [
       "<div>\n",
       "<style>\n",
       "    .dataframe thead tr:only-child th {\n",
       "        text-align: right;\n",
       "    }\n",
       "\n",
       "    .dataframe thead th {\n",
       "        text-align: left;\n",
       "    }\n",
       "\n",
       "    .dataframe tbody tr th {\n",
       "        vertical-align: top;\n",
       "    }\n",
       "</style>\n",
       "<table border=\"1\" class=\"dataframe\">\n",
       "  <thead>\n",
       "    <tr style=\"text-align: right;\">\n",
       "      <th></th>\n",
       "      <th>plat</th>\n",
       "      <th>plng</th>\n",
       "      <th>dlat</th>\n",
       "      <th>dlng</th>\n",
       "      <th>t</th>\n",
       "      <th>duration</th>\n",
       "      <th>distance</th>\n",
       "      <th>road</th>\n",
       "    </tr>\n",
       "  </thead>\n",
       "  <tbody>\n",
       "    <tr>\n",
       "      <th>0</th>\n",
       "      <td>46.517116</td>\n",
       "      <td>6.630342</td>\n",
       "      <td>46.508528</td>\n",
       "      <td>6.627598</td>\n",
       "      <td>11:15:00</td>\n",
       "      <td>132.0</td>\n",
       "      <td>1336.0</td>\n",
       "      <td>[311463563, 2940544168, 311463564, 561463459, ...</td>\n",
       "    </tr>\n",
       "    <tr>\n",
       "      <th>1</th>\n",
       "      <td>46.517116</td>\n",
       "      <td>6.630342</td>\n",
       "      <td>46.521429</td>\n",
       "      <td>6.656347</td>\n",
       "      <td>20:00:00</td>\n",
       "      <td>426.0</td>\n",
       "      <td>3702.0</td>\n",
       "      <td>[311463563, 2940544168, 311463564, 561463459, ...</td>\n",
       "    </tr>\n",
       "    <tr>\n",
       "      <th>2</th>\n",
       "      <td>46.517116</td>\n",
       "      <td>6.630342</td>\n",
       "      <td>46.558792</td>\n",
       "      <td>6.680104</td>\n",
       "      <td>18:15:00</td>\n",
       "      <td>707.0</td>\n",
       "      <td>8354.0</td>\n",
       "      <td>[311463563, 2940544168, 311463564, 561463459, ...</td>\n",
       "    </tr>\n",
       "    <tr>\n",
       "      <th>3</th>\n",
       "      <td>46.520649</td>\n",
       "      <td>6.635173</td>\n",
       "      <td>46.519590</td>\n",
       "      <td>6.634718</td>\n",
       "      <td>18:45:00</td>\n",
       "      <td>163.0</td>\n",
       "      <td>1521.0</td>\n",
       "      <td>[2223091605, 3786724165, 3786724164, 302530573...</td>\n",
       "    </tr>\n",
       "    <tr>\n",
       "      <th>4</th>\n",
       "      <td>46.510731</td>\n",
       "      <td>6.630553</td>\n",
       "      <td>46.515950</td>\n",
       "      <td>6.657525</td>\n",
       "      <td>19:00:00</td>\n",
       "      <td>437.0</td>\n",
       "      <td>3818.0</td>\n",
       "      <td>[3516999773, 3817926827, 567951313, 567951312,...</td>\n",
       "    </tr>\n",
       "  </tbody>\n",
       "</table>\n",
       "</div>"
      ],
      "text/plain": [
       "        plat      plng       dlat      dlng         t  duration  distance  \\\n",
       "0  46.517116  6.630342  46.508528  6.627598  11:15:00     132.0    1336.0   \n",
       "1  46.517116  6.630342  46.521429  6.656347  20:00:00     426.0    3702.0   \n",
       "2  46.517116  6.630342  46.558792  6.680104  18:15:00     707.0    8354.0   \n",
       "3  46.520649  6.635173  46.519590  6.634718  18:45:00     163.0    1521.0   \n",
       "4  46.510731  6.630553  46.515950  6.657525  19:00:00     437.0    3818.0   \n",
       "\n",
       "                                                road  \n",
       "0  [311463563, 2940544168, 311463564, 561463459, ...  \n",
       "1  [311463563, 2940544168, 311463564, 561463459, ...  \n",
       "2  [311463563, 2940544168, 311463564, 561463459, ...  \n",
       "3  [2223091605, 3786724165, 3786724164, 302530573...  \n",
       "4  [3516999773, 3817926827, 567951313, 567951312,...  "
      ]
     },
     "execution_count": 2,
     "metadata": {},
     "output_type": "execute_result"
    }
   ],
   "source": [
    "data = pd.read_csv(\"../data/dataviz.csv\")\n",
    "data.head()"
   ]
  },
  {
   "cell_type": "code",
   "execution_count": 3,
   "metadata": {},
   "outputs": [],
   "source": [
    "with open('../data/nodes_dict.json') as json_file:  \n",
    "    nodes_dict = json.load(json_file)"
   ]
  },
  {
   "cell_type": "code",
   "execution_count": 4,
   "metadata": {},
   "outputs": [],
   "source": [
    "paths_nodes = (data.road.apply(lambda x: x[1:-1].split(\", \")))"
   ]
  },
  {
   "cell_type": "code",
   "execution_count": 5,
   "metadata": {},
   "outputs": [
    {
     "data": {
      "text/plain": [
       "12660"
      ]
     },
     "execution_count": 5,
     "metadata": {},
     "output_type": "execute_result"
    }
   ],
   "source": [
    "# Compute number of passages on each edge\n",
    "nonvalid_nodes = set()\n",
    "def update_path_heat(edges_heat, edges_id, path_nodes, nodes_dict, driver_id):\n",
    "    if len(path_nodes) <=1:\n",
    "        return edges_heat, edges_id\n",
    "    elif path_nodes[0] not in nodes_dict:\n",
    "        nonvalid_nodes.add(path_nodes[0])\n",
    "        return update_path_heat(edges_heat, edges_id, path_nodes[1:], nodes_dict, driver_id)\n",
    "    elif path_nodes[1] not in nodes_dict:\n",
    "        nonvalid_nodes.add(path_nodes[1])\n",
    "        return update_path_heat(edges_heat, edges_id, path_nodes[:1]+path_nodes[2:], nodes_dict, driver_id)\n",
    "    else:\n",
    "        edge = path_nodes[:2]            \n",
    "        dic_key = '-'.join(sorted(edge))\n",
    "\n",
    "        edges_heat[dic_key] = 1 + edges_heat.get(dic_key, 0)\n",
    "        if edges_id.get(dic_key, None) == None:\n",
    "            edges_id[dic_key] = []\n",
    "        edges_id.get(dic_key).append(driver_id)\n",
    "        return update_path_heat(edges_heat, edges_id, path_nodes[1:], nodes_dict, driver_id)\n",
    "\n",
    "edges_heat = {}\n",
    "edges_id = {}\n",
    "nonvalid_nodes = set()\n",
    "for i, path_nodes in paths_nodes.iteritems():\n",
    "    edges_heat, edges_id = update_path_heat(edges_heat, edges_id, path_nodes, nodes_dict, i)\n",
    "\n",
    "len(edges_heat)"
   ]
  },
  {
   "cell_type": "code",
   "execution_count": 6,
   "metadata": {
    "scrolled": true
   },
   "outputs": [
    {
     "data": {
      "text/html": [
       "<div>\n",
       "<style>\n",
       "    .dataframe thead tr:only-child th {\n",
       "        text-align: right;\n",
       "    }\n",
       "\n",
       "    .dataframe thead th {\n",
       "        text-align: left;\n",
       "    }\n",
       "\n",
       "    .dataframe tbody tr th {\n",
       "        vertical-align: top;\n",
       "    }\n",
       "</style>\n",
       "<table border=\"1\" class=\"dataframe\">\n",
       "  <thead>\n",
       "    <tr style=\"text-align: right;\">\n",
       "      <th></th>\n",
       "      <th>node1</th>\n",
       "      <th>node2</th>\n",
       "      <th>heat</th>\n",
       "      <th>id</th>\n",
       "    </tr>\n",
       "  </thead>\n",
       "  <tbody>\n",
       "    <tr>\n",
       "      <th>0</th>\n",
       "      <td>2657469978</td>\n",
       "      <td>3786724226</td>\n",
       "      <td>995</td>\n",
       "      <td>[3, 5, 7, 10, 13, 15, 17, 24, 25, 27, 28, 30, ...</td>\n",
       "    </tr>\n",
       "    <tr>\n",
       "      <th>1</th>\n",
       "      <td>2223091607</td>\n",
       "      <td>3787835432</td>\n",
       "      <td>995</td>\n",
       "      <td>[3, 5, 7, 10, 13, 15, 17, 24, 25, 27, 28, 30, ...</td>\n",
       "    </tr>\n",
       "    <tr>\n",
       "      <th>2</th>\n",
       "      <td>3025305734</td>\n",
       "      <td>3786724164</td>\n",
       "      <td>995</td>\n",
       "      <td>[3, 5, 7, 10, 13, 15, 17, 24, 25, 27, 28, 30, ...</td>\n",
       "    </tr>\n",
       "    <tr>\n",
       "      <th>3</th>\n",
       "      <td>2223091605</td>\n",
       "      <td>3786724165</td>\n",
       "      <td>995</td>\n",
       "      <td>[3, 5, 7, 10, 13, 15, 17, 24, 25, 27, 28, 30, ...</td>\n",
       "    </tr>\n",
       "    <tr>\n",
       "      <th>4</th>\n",
       "      <td>3786724164</td>\n",
       "      <td>3786724165</td>\n",
       "      <td>995</td>\n",
       "      <td>[3, 5, 7, 10, 13, 15, 17, 24, 25, 27, 28, 30, ...</td>\n",
       "    </tr>\n",
       "  </tbody>\n",
       "</table>\n",
       "</div>"
      ],
      "text/plain": [
       "        node1       node2  heat  \\\n",
       "0  2657469978  3786724226   995   \n",
       "1  2223091607  3787835432   995   \n",
       "2  3025305734  3786724164   995   \n",
       "3  2223091605  3786724165   995   \n",
       "4  3786724164  3786724165   995   \n",
       "\n",
       "                                                  id  \n",
       "0  [3, 5, 7, 10, 13, 15, 17, 24, 25, 27, 28, 30, ...  \n",
       "1  [3, 5, 7, 10, 13, 15, 17, 24, 25, 27, 28, 30, ...  \n",
       "2  [3, 5, 7, 10, 13, 15, 17, 24, 25, 27, 28, 30, ...  \n",
       "3  [3, 5, 7, 10, 13, 15, 17, 24, 25, 27, 28, 30, ...  \n",
       "4  [3, 5, 7, 10, 13, 15, 17, 24, 25, 27, 28, 30, ...  "
      ]
     },
     "execution_count": 6,
     "metadata": {},
     "output_type": "execute_result"
    }
   ],
   "source": [
    "# Make a dataframes that has a heat value for each edge (pair of nodes)\n",
    "heat_df = pd.DataFrame(list(edges_heat.items()), columns=['edge','heat'])\n",
    "id_df = pd.DataFrame(list(edges_id.items()), columns=['edge','id'])\n",
    "heat_df = heat_df.merge(id_df)\n",
    "\n",
    "heat_df['node1'] = heat_df.apply (lambda row: row.edge.split('-')[0],axis=1)\n",
    "heat_df['node2'] = heat_df.apply (lambda row: row.edge.split('-')[1],axis=1)\n",
    "\n",
    "heat_df = heat_df[['node1', 'node2', 'heat', 'id']].sort_values(['heat'], ascending=False)\n",
    "heat_df = heat_df.reset_index(drop=True)\n",
    "heat_df.head()"
   ]
  },
  {
   "cell_type": "code",
   "execution_count": 7,
   "metadata": {},
   "outputs": [
    {
     "data": {
      "text/plain": [
       "(12660, 4)"
      ]
     },
     "execution_count": 7,
     "metadata": {},
     "output_type": "execute_result"
    }
   ],
   "source": [
    "heat_df.shape"
   ]
  },
  {
   "cell_type": "code",
   "execution_count": 8,
   "metadata": {},
   "outputs": [
    {
     "data": {
      "text/plain": [
       "(12660, 4)"
      ]
     },
     "execution_count": 8,
     "metadata": {},
     "output_type": "execute_result"
    }
   ],
   "source": [
    "# Verify that all nodes are valid\n",
    "heat_df['valid'] = heat_df.apply (lambda row: row.node1 in nodes_dict and row.node2 in nodes_dict,axis=1)\n",
    "\n",
    "heat_df=heat_df[heat_df.valid==True]\n",
    "heat_df = heat_df.drop('valid', axis=1)\n",
    "heat_df.shape"
   ]
  },
  {
   "cell_type": "code",
   "execution_count": 9,
   "metadata": {},
   "outputs": [
    {
     "name": "stdout",
     "output_type": "stream",
     "text": [
      "(12660, 8)\n"
     ]
    },
    {
     "data": {
      "text/html": [
       "<div>\n",
       "<style>\n",
       "    .dataframe thead tr:only-child th {\n",
       "        text-align: right;\n",
       "    }\n",
       "\n",
       "    .dataframe thead th {\n",
       "        text-align: left;\n",
       "    }\n",
       "\n",
       "    .dataframe tbody tr th {\n",
       "        vertical-align: top;\n",
       "    }\n",
       "</style>\n",
       "<table border=\"1\" class=\"dataframe\">\n",
       "  <thead>\n",
       "    <tr style=\"text-align: right;\">\n",
       "      <th></th>\n",
       "      <th>node1</th>\n",
       "      <th>lat1</th>\n",
       "      <th>lon1</th>\n",
       "      <th>node2</th>\n",
       "      <th>lat2</th>\n",
       "      <th>lon2</th>\n",
       "      <th>heat</th>\n",
       "      <th>id</th>\n",
       "    </tr>\n",
       "  </thead>\n",
       "  <tbody>\n",
       "    <tr>\n",
       "      <th>0</th>\n",
       "      <td>2657469978</td>\n",
       "      <td>46.5209304</td>\n",
       "      <td>6.6358808</td>\n",
       "      <td>3786724226</td>\n",
       "      <td>46.5208706</td>\n",
       "      <td>6.6357914</td>\n",
       "      <td>995</td>\n",
       "      <td>[3, 5, 7, 10, 13, 15, 17, 24, 25, 27, 28, 30, ...</td>\n",
       "    </tr>\n",
       "    <tr>\n",
       "      <th>1</th>\n",
       "      <td>2223091607</td>\n",
       "      <td>46.5207321</td>\n",
       "      <td>6.6355847</td>\n",
       "      <td>3787835432</td>\n",
       "      <td>46.5207605</td>\n",
       "      <td>6.6356271</td>\n",
       "      <td>995</td>\n",
       "      <td>[3, 5, 7, 10, 13, 15, 17, 24, 25, 27, 28, 30, ...</td>\n",
       "    </tr>\n",
       "    <tr>\n",
       "      <th>2</th>\n",
       "      <td>3025305734</td>\n",
       "      <td>46.5206458</td>\n",
       "      <td>6.6353659</td>\n",
       "      <td>3786724164</td>\n",
       "      <td>46.5206459</td>\n",
       "      <td>6.6353559</td>\n",
       "      <td>995</td>\n",
       "      <td>[3, 5, 7, 10, 13, 15, 17, 24, 25, 27, 28, 30, ...</td>\n",
       "    </tr>\n",
       "    <tr>\n",
       "      <th>3</th>\n",
       "      <td>2223091605</td>\n",
       "      <td>46.5206503</td>\n",
       "      <td>6.6351191</td>\n",
       "      <td>3786724165</td>\n",
       "      <td>46.5206473</td>\n",
       "      <td>6.6352327</td>\n",
       "      <td>995</td>\n",
       "      <td>[3, 5, 7, 10, 13, 15, 17, 24, 25, 27, 28, 30, ...</td>\n",
       "    </tr>\n",
       "    <tr>\n",
       "      <th>4</th>\n",
       "      <td>3786724164</td>\n",
       "      <td>46.5206459</td>\n",
       "      <td>6.6353559</td>\n",
       "      <td>3786724165</td>\n",
       "      <td>46.5206473</td>\n",
       "      <td>6.6352327</td>\n",
       "      <td>995</td>\n",
       "      <td>[3, 5, 7, 10, 13, 15, 17, 24, 25, 27, 28, 30, ...</td>\n",
       "    </tr>\n",
       "  </tbody>\n",
       "</table>\n",
       "</div>"
      ],
      "text/plain": [
       "        node1        lat1       lon1       node2        lat2       lon2  heat  \\\n",
       "0  2657469978  46.5209304  6.6358808  3786724226  46.5208706  6.6357914   995   \n",
       "1  2223091607  46.5207321  6.6355847  3787835432  46.5207605  6.6356271   995   \n",
       "2  3025305734  46.5206458  6.6353659  3786724164  46.5206459  6.6353559   995   \n",
       "3  2223091605  46.5206503  6.6351191  3786724165  46.5206473  6.6352327   995   \n",
       "4  3786724164  46.5206459  6.6353559  3786724165  46.5206473  6.6352327   995   \n",
       "\n",
       "                                                  id  \n",
       "0  [3, 5, 7, 10, 13, 15, 17, 24, 25, 27, 28, 30, ...  \n",
       "1  [3, 5, 7, 10, 13, 15, 17, 24, 25, 27, 28, 30, ...  \n",
       "2  [3, 5, 7, 10, 13, 15, 17, 24, 25, 27, 28, 30, ...  \n",
       "3  [3, 5, 7, 10, 13, 15, 17, 24, 25, 27, 28, 30, ...  \n",
       "4  [3, 5, 7, 10, 13, 15, 17, 24, 25, 27, 28, 30, ...  "
      ]
     },
     "execution_count": 9,
     "metadata": {},
     "output_type": "execute_result"
    }
   ],
   "source": [
    "# Add the corresponding latitude & longitude for each node\n",
    "heat_df['lat1'] = heat_df.apply (lambda row: nodes_dict[row.node1]['lat'],axis=1)\n",
    "heat_df['lon1'] = heat_df.apply (lambda row: nodes_dict[row.node1]['lon'],axis=1)\n",
    "heat_df['lat2'] = heat_df.apply (lambda row: nodes_dict[row.node2]['lat'],axis=1)\n",
    "heat_df['lon2'] = heat_df.apply (lambda row: nodes_dict[row.node2]['lon'],axis=1)\n",
    "heat_df = heat_df[['node1','lat1','lon1','node2','lat2','lon2','heat', 'id']]\n",
    "print(heat_df.shape)\n",
    "heat_df.head()"
   ]
  },
  {
   "cell_type": "code",
   "execution_count": 10,
   "metadata": {},
   "outputs": [
    {
     "data": {
      "text/plain": [
       "43"
      ]
     },
     "execution_count": 10,
     "metadata": {},
     "output_type": "execute_result"
    }
   ],
   "source": [
    "# Get starting edges (from pickup location to 1st node)\n",
    "init_edges = data.apply(lambda row: [row['plat'], row['plng'], row['road'][1:].split(\", \")[0]],axis=1)\n",
    "new_edges = []\n",
    "\n",
    "for i, (plat, plng, node2) in init_edges.iteritems():\n",
    "    edge_idx = [i for (i,e) in enumerate(new_edges) if (e['lat1']==plat) and (e['lon1']==plng) and (e['node2']==node2)]\n",
    "    \n",
    "    if len(edge_idx) > 0:\n",
    "        # edge is already present\n",
    "        e = new_edges[edge_idx[0]]\n",
    "        e['heat'] = e['heat'] + 1\n",
    "        e['id'] = e['id'] + [i]\n",
    "        new_edges[edge_idx[0]] = e\n",
    "    else:\n",
    "        # need to create new edge\n",
    "        lat2, lon2 = nodes_dict[node2].values()\n",
    "        heat = 1\n",
    "        idx = [i]\n",
    "        \n",
    "        e = {'lat1':plat, 'lon1':plng, 'node2':node2, 'lat2':lat2, 'lon2':lon2, 'heat': heat, 'id':idx}\n",
    "        new_edges.append(e)\n",
    "        \n",
    "len(new_edges)"
   ]
  },
  {
   "cell_type": "code",
   "execution_count": 11,
   "metadata": {},
   "outputs": [
    {
     "data": {
      "text/plain": [
       "(12703, 8)"
      ]
     },
     "execution_count": 11,
     "metadata": {},
     "output_type": "execute_result"
    }
   ],
   "source": [
    "# Add starting edges to the dataframe\n",
    "heat_df_final = heat_df.copy()\n",
    "for edge in new_edges:\n",
    "    heat_df_final = heat_df_final.append(edge, ignore_index=True)\n",
    "\n",
    "heat_df_final = heat_df_final.sort_values(['heat'], ascending=False)\n",
    "heat_df_final = heat_df_final.reset_index(drop=True)\n",
    "heat_df_final.shape"
   ]
  },
  {
   "cell_type": "code",
   "execution_count": 13,
   "metadata": {},
   "outputs": [],
   "source": [
    "# Save to csv\n",
    "heat_df_final.to_csv(\"../data/heatmap_data.csv\", index=False, na_rep='NA')"
   ]
  },
  {
   "cell_type": "code",
   "execution_count": null,
   "metadata": {
    "scrolled": true
   },
   "outputs": [],
   "source": [
    "h_df = heat_df[:0].copy()\n",
    "for edge in new_edges:\n",
    "    h_df = h_df.append(edge, ignore_index=True)\n",
    "h_df"
   ]
  }
 ],
 "metadata": {
  "kernelspec": {
   "display_name": "Python [conda env:ada]",
   "language": "python",
   "name": "conda-env-ada-py"
  },
  "language_info": {
   "codemirror_mode": {
    "name": "ipython",
    "version": 3
   },
   "file_extension": ".py",
   "mimetype": "text/x-python",
   "name": "python",
   "nbconvert_exporter": "python",
   "pygments_lexer": "ipython3",
   "version": "3.5.4"
  }
 },
 "nbformat": 4,
 "nbformat_minor": 2
}
