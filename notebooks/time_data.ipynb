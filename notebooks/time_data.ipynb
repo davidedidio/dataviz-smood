{
 "cells": [
  {
   "cell_type": "code",
   "execution_count": 1,
   "metadata": {},
   "outputs": [
    {
     "name": "stderr",
     "output_type": "stream",
     "text": [
      "/home/davide/anaconda3/envs/deepsuccess/lib/python3.6/importlib/_bootstrap.py:219: RuntimeWarning: numpy.dtype size changed, may indicate binary incompatibility. Expected 96, got 88\n",
      "  return f(*args, **kwds)\n",
      "/home/davide/anaconda3/envs/deepsuccess/lib/python3.6/importlib/_bootstrap.py:219: RuntimeWarning: numpy.dtype size changed, may indicate binary incompatibility. Expected 96, got 88\n",
      "  return f(*args, **kwds)\n"
     ]
    }
   ],
   "source": [
    "import numpy as np\n",
    "import pandas as pd\n",
    "import json"
   ]
  },
  {
   "cell_type": "code",
   "execution_count": 2,
   "metadata": {},
   "outputs": [
    {
     "data": {
      "text/html": [
       "<div>\n",
       "<style scoped>\n",
       "    .dataframe tbody tr th:only-of-type {\n",
       "        vertical-align: middle;\n",
       "    }\n",
       "\n",
       "    .dataframe tbody tr th {\n",
       "        vertical-align: top;\n",
       "    }\n",
       "\n",
       "    .dataframe thead th {\n",
       "        text-align: right;\n",
       "    }\n",
       "</style>\n",
       "<table border=\"1\" class=\"dataframe\">\n",
       "  <thead>\n",
       "    <tr style=\"text-align: right;\">\n",
       "      <th></th>\n",
       "      <th>plat</th>\n",
       "      <th>plng</th>\n",
       "      <th>dlat</th>\n",
       "      <th>dlng</th>\n",
       "      <th>t</th>\n",
       "      <th>road</th>\n",
       "    </tr>\n",
       "  </thead>\n",
       "  <tbody>\n",
       "    <tr>\n",
       "      <th>0</th>\n",
       "      <td>46.517116</td>\n",
       "      <td>6.630342</td>\n",
       "      <td>46.508528</td>\n",
       "      <td>6.627598</td>\n",
       "      <td>11:15:00</td>\n",
       "      <td>[311463563, 2940544168, 311463564, 561463459, ...</td>\n",
       "    </tr>\n",
       "    <tr>\n",
       "      <th>1</th>\n",
       "      <td>46.517116</td>\n",
       "      <td>6.630342</td>\n",
       "      <td>46.521429</td>\n",
       "      <td>6.656347</td>\n",
       "      <td>20:00:00</td>\n",
       "      <td>[311463563, 2940544168, 311463564, 561463459, ...</td>\n",
       "    </tr>\n",
       "    <tr>\n",
       "      <th>2</th>\n",
       "      <td>46.517116</td>\n",
       "      <td>6.630342</td>\n",
       "      <td>46.558792</td>\n",
       "      <td>6.680104</td>\n",
       "      <td>18:15:00</td>\n",
       "      <td>[311463563, 2940544168, 311463564, 561463459, ...</td>\n",
       "    </tr>\n",
       "    <tr>\n",
       "      <th>3</th>\n",
       "      <td>46.520649</td>\n",
       "      <td>6.635173</td>\n",
       "      <td>46.519590</td>\n",
       "      <td>6.634718</td>\n",
       "      <td>18:45:00</td>\n",
       "      <td>[2223091605, 3786724165, 3786724164, 302530573...</td>\n",
       "    </tr>\n",
       "    <tr>\n",
       "      <th>4</th>\n",
       "      <td>46.510731</td>\n",
       "      <td>6.630553</td>\n",
       "      <td>46.515950</td>\n",
       "      <td>6.657525</td>\n",
       "      <td>19:00:00</td>\n",
       "      <td>[3516999773, 3817926827, 567951313, 567951312,...</td>\n",
       "    </tr>\n",
       "  </tbody>\n",
       "</table>\n",
       "</div>"
      ],
      "text/plain": [
       "        plat      plng       dlat      dlng         t  \\\n",
       "0  46.517116  6.630342  46.508528  6.627598  11:15:00   \n",
       "1  46.517116  6.630342  46.521429  6.656347  20:00:00   \n",
       "2  46.517116  6.630342  46.558792  6.680104  18:15:00   \n",
       "3  46.520649  6.635173  46.519590  6.634718  18:45:00   \n",
       "4  46.510731  6.630553  46.515950  6.657525  19:00:00   \n",
       "\n",
       "                                                road  \n",
       "0  [311463563, 2940544168, 311463564, 561463459, ...  \n",
       "1  [311463563, 2940544168, 311463564, 561463459, ...  \n",
       "2  [311463563, 2940544168, 311463564, 561463459, ...  \n",
       "3  [2223091605, 3786724165, 3786724164, 302530573...  \n",
       "4  [3516999773, 3817926827, 567951313, 567951312,...  "
      ]
     },
     "execution_count": 2,
     "metadata": {},
     "output_type": "execute_result"
    }
   ],
   "source": [
    "data = pd.read_csv(\"../data/dataviz.csv\")\n",
    "data.head()"
   ]
  },
  {
   "cell_type": "code",
   "execution_count": 8,
   "metadata": {},
   "outputs": [
    {
     "data": {
      "text/html": [
       "<div>\n",
       "<style scoped>\n",
       "    .dataframe tbody tr th:only-of-type {\n",
       "        vertical-align: middle;\n",
       "    }\n",
       "\n",
       "    .dataframe tbody tr th {\n",
       "        vertical-align: top;\n",
       "    }\n",
       "\n",
       "    .dataframe thead th {\n",
       "        text-align: right;\n",
       "    }\n",
       "</style>\n",
       "<table border=\"1\" class=\"dataframe\">\n",
       "  <thead>\n",
       "    <tr style=\"text-align: right;\">\n",
       "      <th></th>\n",
       "      <th>time</th>\n",
       "      <th>indices</th>\n",
       "    </tr>\n",
       "  </thead>\n",
       "  <tbody>\n",
       "    <tr>\n",
       "      <th>0</th>\n",
       "      <td>10:30</td>\n",
       "      <td>[1787]</td>\n",
       "    </tr>\n",
       "    <tr>\n",
       "      <th>1</th>\n",
       "      <td>10:45</td>\n",
       "      <td>[1801]</td>\n",
       "    </tr>\n",
       "    <tr>\n",
       "      <th>2</th>\n",
       "      <td>11:00</td>\n",
       "      <td>[112, 589, 899]</td>\n",
       "    </tr>\n",
       "    <tr>\n",
       "      <th>3</th>\n",
       "      <td>11:15</td>\n",
       "      <td>[0, 13, 107, 214, 243, 325, 358, 479, 506, 518...</td>\n",
       "    </tr>\n",
       "    <tr>\n",
       "      <th>4</th>\n",
       "      <td>11:30</td>\n",
       "      <td>[272, 303, 424, 429, 469, 512, 521, 527, 1021,...</td>\n",
       "    </tr>\n",
       "  </tbody>\n",
       "</table>\n",
       "</div>"
      ],
      "text/plain": [
       "    time                                            indices\n",
       "0  10:30                                             [1787]\n",
       "1  10:45                                             [1801]\n",
       "2  11:00                                    [112, 589, 899]\n",
       "3  11:15  [0, 13, 107, 214, 243, 325, 358, 479, 506, 518...\n",
       "4  11:30  [272, 303, 424, 429, 469, 512, 521, 527, 1021,..."
      ]
     },
     "execution_count": 8,
     "metadata": {},
     "output_type": "execute_result"
    }
   ],
   "source": [
    "grouped = data.groupby(\"t\")\n",
    "time_df = pd.DataFrame(list(grouped.indices.items()), columns=[\"time\", \"indices\"])\n",
    "\n",
    "time_df[\"time\"] = time_df[\"time\"].apply(lambda x: x[:-3])\n",
    "time_df[\"indices\"] = time_df[\"indices\"].apply(lambda x: list(x))\n",
    "time_df.head()"
   ]
  },
  {
   "cell_type": "code",
   "execution_count": 9,
   "metadata": {
    "collapsed": true
   },
   "outputs": [],
   "source": [
    "time_df.to_csv(\"../data/time_data.csv\", index=False)"
   ]
  },
  {
   "cell_type": "code",
   "execution_count": null,
   "metadata": {
    "collapsed": true
   },
   "outputs": [],
   "source": []
  }
 ],
 "metadata": {
  "kernelspec": {
   "display_name": "Python [conda env:deepsuccess]",
   "language": "python",
   "name": "conda-env-deepsuccess-py"
  },
  "language_info": {
   "codemirror_mode": {
    "name": "ipython",
    "version": 3
   },
   "file_extension": ".py",
   "mimetype": "text/x-python",
   "name": "python",
   "nbconvert_exporter": "python",
   "pygments_lexer": "ipython3",
   "version": "3.6.6"
  }
 },
 "nbformat": 4,
 "nbformat_minor": 2
}
