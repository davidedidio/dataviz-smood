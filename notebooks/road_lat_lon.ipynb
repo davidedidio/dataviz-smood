{
 "cells": [
  {
   "cell_type": "code",
   "execution_count": 1,
   "metadata": {
    "collapsed": true
   },
   "outputs": [],
   "source": [
    "import numpy as np"
   ]
  },
  {
   "cell_type": "code",
   "execution_count": 6,
   "metadata": {},
   "outputs": [],
   "source": [
    "import xml.etree.ElementTree as ET\n",
    "tree = ET.parse('../data/map.osm')\n",
    "root = tree.getroot()"
   ]
  },
  {
   "cell_type": "code",
   "execution_count": 7,
   "metadata": {},
   "outputs": [],
   "source": [
    "import pandas as pd\n",
    "csv_data = pd.read_csv(\"../data/dataviz.csv\")"
   ]
  },
  {
   "cell_type": "code",
   "execution_count": 8,
   "metadata": {
    "collapsed": true
   },
   "outputs": [],
   "source": [
    "# Get the list of all nodes for every road in the csv\n",
    "node_ids = (csv_data.road.apply(lambda x: x[1:-1].split(\", \")))"
   ]
  },
  {
   "cell_type": "code",
   "execution_count": 9,
   "metadata": {
    "collapsed": true
   },
   "outputs": [],
   "source": [
    "# Find all osm_nodes from the osm map data\n",
    "osm_nodes = root.findall(\"node\")"
   ]
  },
  {
   "cell_type": "code",
   "execution_count": 10,
   "metadata": {
    "collapsed": true
   },
   "outputs": [],
   "source": [
    "# Create a dictionary with every nodes in the osm tree. The dict contains the latitude and longitude of the node.\n",
    "node_attribute_dict = {}\n",
    "for osm_node in osm_nodes:\n",
    "    attrib = osm_node.attrib\n",
    "    node_attribute_dict[attrib[\"id\"]] = {\"lat\": attrib[\"lat\"], \"lon\": attrib[\"lon\"]}"
   ]
  },
  {
   "cell_type": "code",
   "execution_count": 11,
   "metadata": {
    "collapsed": true
   },
   "outputs": [],
   "source": [
    "# Create the list of longitudes and latitudes for every roads.\n",
    "all_latitudes = []\n",
    "all_longitudes = []\n",
    "for nodes in node_ids.iteritems():\n",
    "    latitudes = []\n",
    "    longitudes = []\n",
    "    for node in nodes[1]:\n",
    "        node_attr = node_attribute_dict.get(node, {\"lat\": \"\", \"lon\": \"\"})\n",
    "        latitudes.append(node_attr[\"lat\"])\n",
    "        longitudes.append(node_attr[\"lon\"])    \n",
    "    all_latitudes.append(latitudes)\n",
    "    all_longitudes.append(longitudes)"
   ]
  },
  {
   "cell_type": "code",
   "execution_count": 12,
   "metadata": {},
   "outputs": [
    {
     "data": {
      "text/html": [
       "<div>\n",
       "<style scoped>\n",
       "    .dataframe tbody tr th:only-of-type {\n",
       "        vertical-align: middle;\n",
       "    }\n",
       "\n",
       "    .dataframe tbody tr th {\n",
       "        vertical-align: top;\n",
       "    }\n",
       "\n",
       "    .dataframe thead th {\n",
       "        text-align: right;\n",
       "    }\n",
       "</style>\n",
       "<table border=\"1\" class=\"dataframe\">\n",
       "  <thead>\n",
       "    <tr style=\"text-align: right;\">\n",
       "      <th></th>\n",
       "      <th>plat</th>\n",
       "      <th>plng</th>\n",
       "      <th>dlat</th>\n",
       "      <th>dlng</th>\n",
       "      <th>t</th>\n",
       "      <th>road</th>\n",
       "      <th>road_latitudes</th>\n",
       "      <th>road_longitudes</th>\n",
       "    </tr>\n",
       "  </thead>\n",
       "  <tbody>\n",
       "    <tr>\n",
       "      <th>1631</th>\n",
       "      <td>46.517116</td>\n",
       "      <td>6.630342</td>\n",
       "      <td>46.517291</td>\n",
       "      <td>6.623164</td>\n",
       "      <td>19:00:00</td>\n",
       "      <td>[311463563, 2940544168, 311463564, 561463459, ...</td>\n",
       "      <td>[46.5171142, 46.5171182, 46.5171290, 46.517149...</td>\n",
       "      <td>[6.6303230, 6.6303607, 6.6303954, 6.6304295, 6...</td>\n",
       "    </tr>\n",
       "    <tr>\n",
       "      <th>1508</th>\n",
       "      <td>46.517116</td>\n",
       "      <td>6.630342</td>\n",
       "      <td>46.537641</td>\n",
       "      <td>6.649962</td>\n",
       "      <td>19:30:00</td>\n",
       "      <td>[311463563, 2940544168, 311463564, 561463459, ...</td>\n",
       "      <td>[46.5171142, 46.5171182, 46.5171290, 46.517149...</td>\n",
       "      <td>[6.6303230, 6.6303607, 6.6303954, 6.6304295, 6...</td>\n",
       "    </tr>\n",
       "    <tr>\n",
       "      <th>1172</th>\n",
       "      <td>46.517116</td>\n",
       "      <td>6.630342</td>\n",
       "      <td>46.517378</td>\n",
       "      <td>6.642816</td>\n",
       "      <td>11:45:00</td>\n",
       "      <td>[311463563, 2940544168, 311463564, 561463459, ...</td>\n",
       "      <td>[46.5171142, 46.5171182, 46.5171290, 46.517149...</td>\n",
       "      <td>[6.6303230, 6.6303607, 6.6303954, 6.6304295, 6...</td>\n",
       "    </tr>\n",
       "    <tr>\n",
       "      <th>1844</th>\n",
       "      <td>46.517116</td>\n",
       "      <td>6.630342</td>\n",
       "      <td>46.558792</td>\n",
       "      <td>6.680104</td>\n",
       "      <td>19:15:00</td>\n",
       "      <td>[311463563, 2940544168, 311463564, 561463459, ...</td>\n",
       "      <td>[46.5171142, 46.5171182, 46.5171290, 46.517149...</td>\n",
       "      <td>[6.6303230, 6.6303607, 6.6303954, 6.6304295, 6...</td>\n",
       "    </tr>\n",
       "    <tr>\n",
       "      <th>1644</th>\n",
       "      <td>46.517116</td>\n",
       "      <td>6.630342</td>\n",
       "      <td>46.516210</td>\n",
       "      <td>6.632323</td>\n",
       "      <td>19:30:00</td>\n",
       "      <td>[311463563, 2940544168, 311463564, 561463459, ...</td>\n",
       "      <td>[46.5171142, 46.5171182, 46.5171290, 46.517149...</td>\n",
       "      <td>[6.6303230, 6.6303607, 6.6303954, 6.6304295, 6...</td>\n",
       "    </tr>\n",
       "  </tbody>\n",
       "</table>\n",
       "</div>"
      ],
      "text/plain": [
       "           plat      plng       dlat      dlng         t  \\\n",
       "1631  46.517116  6.630342  46.517291  6.623164  19:00:00   \n",
       "1508  46.517116  6.630342  46.537641  6.649962  19:30:00   \n",
       "1172  46.517116  6.630342  46.517378  6.642816  11:45:00   \n",
       "1844  46.517116  6.630342  46.558792  6.680104  19:15:00   \n",
       "1644  46.517116  6.630342  46.516210  6.632323  19:30:00   \n",
       "\n",
       "                                                   road  \\\n",
       "1631  [311463563, 2940544168, 311463564, 561463459, ...   \n",
       "1508  [311463563, 2940544168, 311463564, 561463459, ...   \n",
       "1172  [311463563, 2940544168, 311463564, 561463459, ...   \n",
       "1844  [311463563, 2940544168, 311463564, 561463459, ...   \n",
       "1644  [311463563, 2940544168, 311463564, 561463459, ...   \n",
       "\n",
       "                                         road_latitudes  \\\n",
       "1631  [46.5171142, 46.5171182, 46.5171290, 46.517149...   \n",
       "1508  [46.5171142, 46.5171182, 46.5171290, 46.517149...   \n",
       "1172  [46.5171142, 46.5171182, 46.5171290, 46.517149...   \n",
       "1844  [46.5171142, 46.5171182, 46.5171290, 46.517149...   \n",
       "1644  [46.5171142, 46.5171182, 46.5171290, 46.517149...   \n",
       "\n",
       "                                        road_longitudes  \n",
       "1631  [6.6303230, 6.6303607, 6.6303954, 6.6304295, 6...  \n",
       "1508  [6.6303230, 6.6303607, 6.6303954, 6.6304295, 6...  \n",
       "1172  [6.6303230, 6.6303607, 6.6303954, 6.6304295, 6...  \n",
       "1844  [6.6303230, 6.6303607, 6.6303954, 6.6304295, 6...  \n",
       "1644  [6.6303230, 6.6303607, 6.6303954, 6.6304295, 6...  "
      ]
     },
     "execution_count": 12,
     "metadata": {},
     "output_type": "execute_result"
    }
   ],
   "source": [
    "# Write the data in the csv the list of longitudes and latitudes for every roads.\n",
    "csv_data[\"road_latitudes\"] = all_latitudes\n",
    "csv_data[\"road_longitudes\"] = all_longitudes\n",
    "\n",
    "csv_data.sample(5)"
   ]
  },
  {
   "cell_type": "code",
   "execution_count": 86,
   "metadata": {
    "collapsed": true
   },
   "outputs": [],
   "source": [
    "csv_data.to_csv(\"data/dataviz_lat_lon.csv\", index=False)"
   ]
  },
  {
   "cell_type": "code",
   "execution_count": 31,
   "metadata": {
    "scrolled": false
   },
   "outputs": [],
   "source": [
    "import json\n",
    "with open(\"/home/davide/EPFL/5eme/DataVisualzation/dataviz-smood/data/nodes_dict.json\", \"w\") as f:\n",
    "    json.dump(node_attribute_dict, f) "
   ]
  },
  {
   "cell_type": "code",
   "execution_count": null,
   "metadata": {
    "collapsed": true
   },
   "outputs": [],
   "source": []
  }
 ],
 "metadata": {
  "kernelspec": {
   "display_name": "Python [conda env:ada]",
   "language": "python",
   "name": "conda-env-ada-py"
  },
  "language_info": {
   "codemirror_mode": {
    "name": "ipython",
    "version": 3
   },
   "file_extension": ".py",
   "mimetype": "text/x-python",
   "name": "python",
   "nbconvert_exporter": "python",
   "pygments_lexer": "ipython3",
   "version": "3.5.4"
  }
 },
 "nbformat": 4,
 "nbformat_minor": 2
}
