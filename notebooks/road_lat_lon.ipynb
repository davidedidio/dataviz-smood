{
 "cells": [
  {
   "cell_type": "code",
   "execution_count": 25,
   "metadata": {
    "collapsed": true
   },
   "outputs": [],
   "source": [
    "import numpy as np"
   ]
  },
  {
   "cell_type": "code",
   "execution_count": 3,
   "metadata": {},
   "outputs": [],
   "source": [
    "import xml.etree.ElementTree as ET\n",
    "tree = ET.parse('data/map.osm')\n",
    "root = tree.getroot()"
   ]
  },
  {
   "cell_type": "code",
   "execution_count": 10,
   "metadata": {},
   "outputs": [
    {
     "name": "stderr",
     "output_type": "stream",
     "text": [
      "/home/davide/anaconda3/envs/dataviz/lib/python3.6/importlib/_bootstrap.py:219: RuntimeWarning: numpy.dtype size changed, may indicate binary incompatibility. Expected 96, got 88\n",
      "  return f(*args, **kwds)\n"
     ]
    }
   ],
   "source": [
    "import pandas as pd\n",
    "csv_data = pd.read_csv(\"data/dataviz.csv\")"
   ]
  },
  {
   "cell_type": "code",
   "execution_count": 27,
   "metadata": {},
   "outputs": [],
   "source": [
    "# Get the list of all nodes for every road in the csv\n",
    "node_ids = (csv_data.road.apply(lambda x: x[1:-1].split(\", \")))"
   ]
  },
  {
   "cell_type": "code",
   "execution_count": 42,
   "metadata": {},
   "outputs": [],
   "source": [
    "# Find all osm_nodes from the osm map data\n",
    "osm_nodes = root.findall(\"node\")"
   ]
  },
  {
   "cell_type": "code",
   "execution_count": 49,
   "metadata": {},
   "outputs": [],
   "source": [
    "# Create a dictionary with every nodes in the osm tree. The dict contains the latitude and longitude of the node.\n",
    "node_attribute_dict = {}\n",
    "for osm_node in osm_nodes:\n",
    "    attrib = osm_node.attrib\n",
    "    node_attribute_dict[attrib[\"id\"]] = {\"lat\": attrib[\"lat\"], \"lon\": attrib[\"lon\"]}"
   ]
  },
  {
   "cell_type": "code",
   "execution_count": 77,
   "metadata": {},
   "outputs": [],
   "source": [
    "# Create the list of longitudes and latitudes for every roads.\n",
    "all_latitudes = []\n",
    "all_longitudes = []\n",
    "for nodes in node_ids.iteritems():\n",
    "    latitudes = []\n",
    "    longitudes = []\n",
    "    for node in nodes[1]:\n",
    "        node_attr = node_attribute_dict.get(node, {\"lat\": \"\", \"lon\": \"\"})\n",
    "        latitudes.append(node_attr[\"lat\"])\n",
    "        longitudes.append(node_attr[\"lon\"])    \n",
    "    all_latitudes.append(latitudes)\n",
    "    all_longitudes.append(longitudes)"
   ]
  },
  {
   "cell_type": "code",
   "execution_count": 85,
   "metadata": {},
   "outputs": [
    {
     "data": {
      "text/html": [
       "<div>\n",
       "<style scoped>\n",
       "    .dataframe tbody tr th:only-of-type {\n",
       "        vertical-align: middle;\n",
       "    }\n",
       "\n",
       "    .dataframe tbody tr th {\n",
       "        vertical-align: top;\n",
       "    }\n",
       "\n",
       "    .dataframe thead th {\n",
       "        text-align: right;\n",
       "    }\n",
       "</style>\n",
       "<table border=\"1\" class=\"dataframe\">\n",
       "  <thead>\n",
       "    <tr style=\"text-align: right;\">\n",
       "      <th></th>\n",
       "      <th>plat</th>\n",
       "      <th>plng</th>\n",
       "      <th>dlat</th>\n",
       "      <th>dlng</th>\n",
       "      <th>t</th>\n",
       "      <th>road</th>\n",
       "      <th>road_latitudes</th>\n",
       "      <th>road_longitudes</th>\n",
       "    </tr>\n",
       "  </thead>\n",
       "  <tbody>\n",
       "    <tr>\n",
       "      <th>307</th>\n",
       "      <td>46.520649</td>\n",
       "      <td>6.635173</td>\n",
       "      <td>46.558792</td>\n",
       "      <td>6.680104</td>\n",
       "      <td>18:30:00</td>\n",
       "      <td>[2223091605, 3786724165, 3786724164, 302530573...</td>\n",
       "      <td>[46.5206503, 46.5206473, 46.5206459, 46.520645...</td>\n",
       "      <td>[6.6351191, 6.6352327, 6.6353559, 6.6353659, 6...</td>\n",
       "    </tr>\n",
       "    <tr>\n",
       "      <th>1479</th>\n",
       "      <td>46.517671</td>\n",
       "      <td>6.638005</td>\n",
       "      <td>46.518755</td>\n",
       "      <td>6.660632</td>\n",
       "      <td>18:30:00</td>\n",
       "      <td>[564689201, 5340503993, 734171155, 253302592, ...</td>\n",
       "      <td>[46.5177018, 46.5175870, 46.5175125, 46.517388...</td>\n",
       "      <td>[6.6380188, 6.6379667, 6.6379328, 6.6378765, 6...</td>\n",
       "    </tr>\n",
       "    <tr>\n",
       "      <th>641</th>\n",
       "      <td>46.520649</td>\n",
       "      <td>6.635173</td>\n",
       "      <td>46.517294</td>\n",
       "      <td>6.600756</td>\n",
       "      <td>20:15:00</td>\n",
       "      <td>[2223091605, 3786724165, 3786724164, 302530573...</td>\n",
       "      <td>[46.5206503, 46.5206473, 46.5206459, 46.520645...</td>\n",
       "      <td>[6.6351191, 6.6352327, 6.6353559, 6.6353659, 6...</td>\n",
       "    </tr>\n",
       "    <tr>\n",
       "      <th>829</th>\n",
       "      <td>46.520649</td>\n",
       "      <td>6.635173</td>\n",
       "      <td>46.558792</td>\n",
       "      <td>6.680104</td>\n",
       "      <td>19:00:00</td>\n",
       "      <td>[2223091605, 3786724165, 3786724164, 302530573...</td>\n",
       "      <td>[46.5206503, 46.5206473, 46.5206459, 46.520645...</td>\n",
       "      <td>[6.6351191, 6.6352327, 6.6353559, 6.6353659, 6...</td>\n",
       "    </tr>\n",
       "    <tr>\n",
       "      <th>1976</th>\n",
       "      <td>46.520649</td>\n",
       "      <td>6.635173</td>\n",
       "      <td>46.526487</td>\n",
       "      <td>6.634099</td>\n",
       "      <td>18:00:00</td>\n",
       "      <td>[2223091605, 3786724165, 3786724164, 302530573...</td>\n",
       "      <td>[46.5206503, 46.5206473, 46.5206459, 46.520645...</td>\n",
       "      <td>[6.6351191, 6.6352327, 6.6353559, 6.6353659, 6...</td>\n",
       "    </tr>\n",
       "  </tbody>\n",
       "</table>\n",
       "</div>"
      ],
      "text/plain": [
       "           plat      plng       dlat      dlng         t  \\\n",
       "307   46.520649  6.635173  46.558792  6.680104  18:30:00   \n",
       "1479  46.517671  6.638005  46.518755  6.660632  18:30:00   \n",
       "641   46.520649  6.635173  46.517294  6.600756  20:15:00   \n",
       "829   46.520649  6.635173  46.558792  6.680104  19:00:00   \n",
       "1976  46.520649  6.635173  46.526487  6.634099  18:00:00   \n",
       "\n",
       "                                                   road  \\\n",
       "307   [2223091605, 3786724165, 3786724164, 302530573...   \n",
       "1479  [564689201, 5340503993, 734171155, 253302592, ...   \n",
       "641   [2223091605, 3786724165, 3786724164, 302530573...   \n",
       "829   [2223091605, 3786724165, 3786724164, 302530573...   \n",
       "1976  [2223091605, 3786724165, 3786724164, 302530573...   \n",
       "\n",
       "                                         road_latitudes  \\\n",
       "307   [46.5206503, 46.5206473, 46.5206459, 46.520645...   \n",
       "1479  [46.5177018, 46.5175870, 46.5175125, 46.517388...   \n",
       "641   [46.5206503, 46.5206473, 46.5206459, 46.520645...   \n",
       "829   [46.5206503, 46.5206473, 46.5206459, 46.520645...   \n",
       "1976  [46.5206503, 46.5206473, 46.5206459, 46.520645...   \n",
       "\n",
       "                                        road_longitudes  \n",
       "307   [6.6351191, 6.6352327, 6.6353559, 6.6353659, 6...  \n",
       "1479  [6.6380188, 6.6379667, 6.6379328, 6.6378765, 6...  \n",
       "641   [6.6351191, 6.6352327, 6.6353559, 6.6353659, 6...  \n",
       "829   [6.6351191, 6.6352327, 6.6353559, 6.6353659, 6...  \n",
       "1976  [6.6351191, 6.6352327, 6.6353559, 6.6353659, 6...  "
      ]
     },
     "execution_count": 85,
     "metadata": {},
     "output_type": "execute_result"
    }
   ],
   "source": [
    "# Write the data in the csv the list of longitudes and latitudes for every roads.\n",
    "csv_data[\"road_latitudes\"] = all_latitudes\n",
    "csv_data[\"road_longitudes\"] = all_longitudes\n",
    "\n",
    "csv_data.sample(5)"
   ]
  },
  {
   "cell_type": "code",
   "execution_count": 86,
   "metadata": {
    "collapsed": true
   },
   "outputs": [],
   "source": [
    "csv_data.to_csv(\"data/dataviz_lat_lon.csv\", index=False)"
   ]
  },
  {
   "cell_type": "code",
   "execution_count": null,
   "metadata": {
    "collapsed": true
   },
   "outputs": [],
   "source": []
  }
 ],
 "metadata": {
  "kernelspec": {
   "display_name": "Python [conda env:dataviz]",
   "language": "python",
   "name": "conda-env-dataviz-py"
  },
  "language_info": {
   "codemirror_mode": {
    "name": "ipython",
    "version": 3
   },
   "file_extension": ".py",
   "mimetype": "text/x-python",
   "name": "python",
   "nbconvert_exporter": "python",
   "pygments_lexer": "ipython3",
   "version": "3.6.6"
  }
 },
 "nbformat": 4,
 "nbformat_minor": 2
}
